{
 "cells": [
  {
   "cell_type": "code",
   "execution_count": null,
   "metadata": {},
   "outputs": [],
   "source": [
    "import networkx as nx\n",
    "import requests\n",
    "import json\n",
    "from pathlib import Path\n",
    "\n",
    "ENDPOINT = 'http://localhost:8000/api/'\n",
    "#ENDPOINT = 'http://domset.algorithm.engineering:8000/api/'"
   ]
  },
  {
   "cell_type": "code",
   "execution_count": null,
   "metadata": {},
   "outputs": [],
   "source": [
    "def add_tag(name, description = None, style=None):\n",
    "    data = {\n",
    "        'name': name,\n",
    "    }\n",
    "\n",
    "    if description is not None:\n",
    "        data['description'] = description\n",
    "\n",
    "    if style is not None:\n",
    "        data['style'] = style\n",
    "\n",
    "    response = requests.post(ENDPOINT + 'tags/new', json=data)\n",
    "    return response.json()\n",
    "\n",
    "\n",
    "add_tag('pace19exact', 'Exact Instance of PACE 2019 / Vertex Cover', 1)\n",
    "add_tag('pace20exact', 'Exact Instance of PACE 2020 / Treedepth', 1)\n",
    "add_tag('pace21exact', 'Exact Instance of PACE 2020 / Cluster Editing', 1)\n",
    "add_tag('pace22exact', 'Exact Instance of PACE 2020 / Directed Feedback Vertex Set', 1)\n",
    "add_tag('pace23exact', 'Exact Instance of PACE 2020 / Twinwidth', 1)\n",
    "\n",
    "add_tag('random', 'Random graph', 2)\n",
    "add_tag('gnp', 'Random G(n,p) graph', 2)\n"
   ]
  },
  {
   "cell_type": "code",
   "execution_count": null,
   "metadata": {},
   "outputs": [],
   "source": [
    "def to_dimacs(G):\n",
    "    n = G.number_of_nodes()\n",
    "    m = G.number_of_edges()\n",
    "    lines = []\n",
    "    lines.append(f\"p ds {n} {m}\")\n",
    "    for u, v in G.edges():\n",
    "        lines.append(f\"{u + 1} {v + 1}\")\n",
    "    return \"\\n\".join(lines)\n",
    "\n",
    "for n in [10, 50, 100]:\n",
    "    for avgdeg in [2, 5, 10, 15, 20, 50]:\n",
    "        if avgdeg * 3 >= n:\n",
    "            continue\n",
    "\n",
    "        for _ in range(10):\n",
    "            p = avgdeg / (n - 1)\n",
    "            G = nx.gnp_random_graph(n, p)\n",
    "            dimacs = to_dimacs(G)\n",
    "\n",
    "            req = {\n",
    "                \"name\": f\"gnp\",\n",
    "                \"description\": f\"Random G(n, p) graph with n={n} and p={p:.2E}\",\n",
    "                \"data\": dimacs,\n",
    "                \"submitted_by\": \"manpen\",\n",
    "                \"tags\": [\"random\", \"gnp\"],\n",
    "            }\n",
    "            \n",
    "            url = ENDPOINT + 'instances/new'\n",
    "            x = requests.post(url, json = req).json()\n",
    "            print(x)\n",
    "\n"
   ]
  },
  {
   "cell_type": "code",
   "execution_count": null,
   "metadata": {},
   "outputs": [],
   "source": [
    "descs = {\n",
    "    'pace19': 'Exact Instance of PACE 2019 / Vertex Cover',\n",
    "    'pace20': 'Exact Instance of PACE 2020 / Treedepth',\n",
    "    'pace21': 'Exact Instance of PACE 2020 / Cluster Editing',\n",
    "    'pace22': 'Exact Instance of PACE 2020 / Directed Feedback Vertex Set',\n",
    "    'pace23': 'Exact Instance of PACE 2020 / Twinwidth',\n",
    "}\n",
    "\n",
    "\n",
    "\n",
    "for x in Path(\"graphs\").glob(\"**/*.gr\"):\n",
    "    if x.parent.name not in descs: \n",
    "        continue\n",
    "\n",
    "\n",
    "    with open(x) as f:\n",
    "        data = f.read()\n",
    "\n",
    "    req = {\n",
    "        \"name\": x.stem,\n",
    "        \"description\": descs[x.parent.name],\n",
    "        \"data\": data,\n",
    "        \"submitted_by\": \"manpen\",\n",
    "        \"tags\": [str(x.parent.name) + \"exact\"],\n",
    "    }\n",
    "    \n",
    "    try:\n",
    "        url = ENDPOINT + 'instances/new'\n",
    "        x = requests.post(url, json = req).json()\n",
    "        print(x)\n",
    "    except:\n",
    "        pass"
   ]
  },
  {
   "cell_type": "code",
   "execution_count": null,
   "metadata": {},
   "outputs": [],
   "source": []
  }
 ],
 "metadata": {
  "kernelspec": {
   "display_name": ".venv",
   "language": "python",
   "name": "python3"
  },
  "language_info": {
   "codemirror_mode": {
    "name": "ipython",
    "version": 3
   },
   "file_extension": ".py",
   "mimetype": "text/x-python",
   "name": "python",
   "nbconvert_exporter": "python",
   "pygments_lexer": "ipython3",
   "version": "3.11.2"
  }
 },
 "nbformat": 4,
 "nbformat_minor": 2
}
